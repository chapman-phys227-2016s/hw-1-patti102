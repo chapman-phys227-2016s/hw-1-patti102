{
 "cells": [
  {
   "cell_type": "code",
   "execution_count": 53,
   "metadata": {
    "collapsed": false
   },
   "outputs": [],
   "source": [
    "import sympy\n",
    "\n",
    "import adaptive_trapzint as p1\n",
    "import sinesum1 as p2\n",
    "import centered_diff as p3\n",
    "import find_primes as p4"
   ]
  },
  {
   "cell_type": "markdown",
   "metadata": {
    "collapsed": false
   },
   "source": [
    "# Homework 1\n",
    "\n",
    "### Taylor Patti\n",
    "### 2/8/2016"
   ]
  },
  {
   "cell_type": "markdown",
   "metadata": {},
   "source": [
    "\n",
    "\n",
    "\n",
    "\n",
    "## Exercises Completed:\n",
    "\n",
    "1. Exercise 3.8 (```adaptive_trapzint.py```)\n",
    "1. Exercise 3.15 (```sinesum1.py```)\n",
    "1. Exercise 3.18 (```centered_diff.py```)\n",
    "1. Exercise 3.20 (```find_primes.py```)"
   ]
  },
  {
   "cell_type": "markdown",
   "metadata": {},
   "source": [
    "\n",
    "\n",
    "\n",
    "## adaptive_trapzint.py\n",
    "\n",
    "Uses algorithm to calculate the number of series terms required to obtain integral value within a given error, then computes this quantity. A select sampling of functions, intervals,  and function performance is output below."
   ]
  },
  {
   "cell_type": "code",
   "execution_count": 54,
   "metadata": {
    "collapsed": false
   },
   "outputs": [
    {
     "name": "stdout",
     "output_type": "stream",
     "text": [
      "\n",
      "Preformance Table of Various Functions\n",
      "\n",
      "  Function        Interval           Error         N-value\n",
      "\n",
      "   cos(x)       0.00 to 3.14      3.122502E-17       509\n",
      "\n",
      "   sin(x)       0.00 to 3.14     -6.349115E-06       509\n",
      "\n",
      "   sin(x)       0.00 to 1.57     -6.346204E-06       180\n",
      "\n"
     ]
    }
   ],
   "source": [
    "p1.performance_table()"
   ]
  },
  {
   "cell_type": "markdown",
   "metadata": {},
   "source": [
    "## sinesum1.py\n",
    "\n",
    "Constructs a trigonometric series with a known point of conversion and ultimately produces a table which details the effectiveness of truncating at various indexes for a sampling of arguments."
   ]
  },
  {
   "cell_type": "code",
   "execution_count": 11,
   "metadata": {
    "collapsed": false
   },
   "outputs": [
    {
     "name": "stdout",
     "output_type": "stream",
     "text": [
      "\n",
      "Difference Between the Limit and the Sum of Sines\n",
      "\n",
      "         n     a=0.01     a=0.25     a=0.49\n",
      "\n",
      "         1       0.99       0.68       0.40\n",
      "         3       0.96       0.15      -0.18\n",
      "         5       0.94      -0.14       0.00\n",
      "        10       0.87       0.01      -0.06\n",
      "        30       0.63      -0.03      -0.01\n",
      "       100      -0.02       0.01      -0.01\n"
     ]
    }
   ],
   "source": [
    "p2.table(1)"
   ]
  },
  {
   "cell_type": "markdown",
   "metadata": {},
   "source": [
    "## centered_diff.py\n",
    "\n",
    "Estimates the first derivative of a function by a truncated Taylor Series approximation. Ultimately, a table was produced in which the estimations were compared to the analytic derivatives, calculated using\n",
    "sympy, and the error was deduced."
   ]
  },
  {
   "cell_type": "code",
   "execution_count": 20,
   "metadata": {
    "collapsed": false
   },
   "outputs": [
    {
     "name": "stdout",
     "output_type": "stream",
     "text": [
      "\n",
      "            Function                Error\n",
      "\n",
      "              exp(x)              1.67E-05\n",
      "\n",
      "        exp(-2*x**2)              0.00E+00\n",
      "\n",
      "              cos(x)             -2.45E-16\n",
      "\n",
      "              log(x)              3.33E-05\n",
      "\n"
     ]
    },
    {
     "data": {
      "text/plain": [
       "[1.6666749992122476e-05, 0.0, -2.4492935982947064e-16, 3.3335333477158e-05]"
      ]
     },
     "execution_count": 20,
     "metadata": {},
     "output_type": "execute_result"
    }
   ],
   "source": [
    "p3.application()"
   ]
  },
  {
   "cell_type": "markdown",
   "metadata": {},
   "source": [
    "## find_primes.py\n",
    "\n",
    "This program identifies prime factors by iterating through a list from 2 to the number given as the function argument and eliminating numbers which are multiples of smaller numbers from the iteration list.\n",
    "The iteration list is then returned and consists of only prime numbers lesser or equal to the function argument. Here, the prime numbers of 100 and less are shown."
   ]
  },
  {
   "cell_type": "code",
   "execution_count": 16,
   "metadata": {
    "collapsed": false
   },
   "outputs": [
    {
     "name": "stdout",
     "output_type": "stream",
     "text": [
      "[2, 3, 5, 7, 11, 13, 17, 19, 23, 29, 31, 37, 41, 43, 47, 53, 59, 61, 67, 71, 73, 79, 83, 89, 97]\n"
     ]
    }
   ],
   "source": [
    "print p4.find_primes(100)"
   ]
  }
 ],
 "metadata": {
  "kernelspec": {
   "display_name": "Python 2 (SageMath)",
   "language": "python",
   "name": "python2"
  },
  "language_info": {
   "codemirror_mode": {
    "name": "ipython",
    "version": 2
   },
   "file_extension": ".py",
   "mimetype": "text/x-python",
   "name": "python",
   "nbconvert_exporter": "python",
   "pygments_lexer": "ipython2",
   "version": "2.7.10"
  },
  "name": "hw1.ipynb"
 },
 "nbformat": 4,
 "nbformat_minor": 0
}
